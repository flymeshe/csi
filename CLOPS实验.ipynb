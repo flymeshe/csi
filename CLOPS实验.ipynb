{
 "cells": [
  {
   "cell_type": "markdown",
   "metadata": {},
   "source": [
    "# CLOPS实验\n",
    "\n",
    "CLOPS是由IBM提出的用于衡量量子计算机的运算速度的指标，全称为Circuit Layer Operations Per Second，即每秒量子线路层操作数，类似于传统计算机中的FLOPS（每秒浮点运算次数）用于衡量传统计算机的性能。\n",
    "\n",
    "评价量子计算机性能有几个指标：质量、速度和规模。其中，量子计算机质量可以用量子体积(Quantum Volume)来表征，规模可以通过量子比特数目来定义，量子计算机的速度指标则是由CLOPS给出。\n",
    "\n",
    "随着量子计算技术的不断发展，CLOPS成为了评估量子计算机性能和比较不同量子计算系统之间性能的重要指标。不同的量子计算机架构和实现方式会影响其CLOPS值，而高CLOPS值通常表示量子计算机在执行复杂计算任务时更为高效。"
   ]
  },
  {
   "cell_type": "markdown",
   "metadata": {},
   "source": [
    "# 理论\n",
    "CLOPS值通过下式计算：\n",
    " \n",
    " 数学公式: $ CLOPS=\\frac{M\\times K \\times S \\times D}{\\text{time\\_taken}} $\n",
    " \n",
    " 其中，数学公式: $ M $表示参数化量子线路模板的数量，数学公式: $ K $表示每一个参数化量子线路参数的更新次数，数学公式: $ S $表示shots次数，数学公式: $ D=\\log_2(QV) $表示QV层数。\n",
    "\n",
    "CLOPS实验主要由以下几个步骤组成：\n",
    "1. 构建一组随机量子线路（QV或者clops_h线路）\n",
    "2. 提交一组量子线路\n",
    "3. 获取量子线路结果，并作为随机数种子生成下一组线路\n",
    "4. 重复迭代，直到所有批次都计算完\n",
    "5. 根据全部实验的运行时间和计算参数计算clops值"
   ]
  },
  {
   "cell_type": "markdown",
   "metadata": {},
   "source": [
    "导入必要的包后，我们还需要确定CLOPS实验的配置参数，才能正确运行CLOPS实验，这些配置参数包括：总量子比特数，量子比特CZ结构（与量子比特总数对应），同时计算批量任务数目，测量次数，迭代次数和线路层数（仅CLOPS_H需要）等。"
   ]
  },
  {
   "cell_type": "markdown",
   "metadata": {},
   "source": [
    "CLOPS实验的总体代码流程如下："
   ]
  },
  {
   "cell_type": "code",
   "execution_count": null,
   "metadata": {},
   "outputs": [],
   "source": [
    "import pyqpanda as pq\n",
    "\n",
    "from originbench.util.chip_topology import CouplingMap\n",
    "from originbench.clops_benchmark.clops_bench import CLOPSBench\n",
    "from originbench.clops_benchmark.clops_options import CLOPSOptions, ComputationApproach\n",
    "\n",
    "import requests\n",
    "requests.packages.urllib3.disable_warnings()\n",
    "\n",
    "#需要先从本源官网获取当前的用户api_token,需要确保有足够的算力资源\n",
    "my_qcloud_token = \"your api token\"\n",
    "\n",
    "def run_clops_benchmark(clops_options : CLOPSOptions):\n",
    "    \n",
    "    machine = pq.QCloud()\n",
    "    machine.set_configure(72, 72)\n",
    "    online_api_key = my_qcloud_token\n",
    "    machine.init_qvm(online_api_key, False)\n",
    "\n",
    "    machine.qAlloc_many(72)\n",
    "    machine.cAlloc_many(72)\n",
    "\n",
    "    print(clops_options)\n",
    "\n",
    "    clops_bench = CLOPSBench(options=clops_options)\n",
    "\n",
    "    clops_bench.run_clops_h(machine, write_log= False)\n",
    "    # clops_bench.run_clops_v(machine, write_log= False)\n",
    "    clops_bench.analyze()\n",
    "\n",
    "\n",
    "if __name__==\"__main__\":\n",
    "    \n",
    "    cz_pattern_list = [\n",
    "        [[(12, 13), (7, 8)]],\n",
    "        [[(25, 31), (37, 36)]],\n",
    "        [[(30, 31), (31, 37)]],\n",
    "        [[(42, 48), (49, 50)]],\n",
    "        [[(49, 55), (61, 67)]],\n",
    "        [[(61, 67), (68, 69)]],\n",
    "        [[(61, 62), (68, 69)]]\n",
    "        ]\n",
    "\n",
    "    coupling_list_sets = [\n",
    "        [(12, 13), (13, 7), (7, 8)],\n",
    "        [(25, 31), (31, 37), (37, 36)],\n",
    "        [(30, 31), (31, 37), (37, 36)],\n",
    "        [(42, 48), (48, 49), (49, 50)],\n",
    "        [(49, 55), (55, 61), (61, 67)],\n",
    "        [(61, 67), (67, 68), (68, 69)],\n",
    "        [(61, 62), (62, 68), (68, 69)]\n",
    "    ]\n",
    "  \n",
    "    coupling_map_index = 0\n",
    "    cz_pattern = cz_pattern_list[coupling_map_index]\n",
    "    coupling_list = coupling_list_sets[coupling_map_index]\n",
    "    coupling_map = CouplingMap(cz_pattern = cz_pattern, couplinglist = coupling_list)\n",
    "\n",
    "    # print(coupling_map)\n",
    "\n",
    "    clops_options = CLOPSOptions()\n",
    "    clops_options.set_options(max_batch_limits = 100,\n",
    "                              circuits_num = 10,\n",
    "                              layers_num = 5, # clops_h only\n",
    "                              qubits_num = 4,\n",
    "                              shots = 2000,\n",
    "                              iterations = 1,\n",
    "                              coupling_map = coupling_map,\n",
    "                              chip_id = 72,\n",
    "                              # specified_qubits_block = [45, 46],\n",
    "                              is_amend = True,\n",
    "                              is_mapping = False,\n",
    "                              is_optimization = True)\n",
    "    \n",
    "    run_clops_benchmark(clops_options)"
   ]
  },
  {
   "cell_type": "markdown",
   "metadata": {},
   "source": [
    "然后直接运行即可，其中CLOPS和CLOPS_H是两种测试线路构造，可任意选择\n",
    "\n",
    "选择方式为修改run_clops_benchmark函数中的调用函数即可\n",
    "\n",
    "1.CLOPS\n",
    "\n",
    "基于QV线路的clops线路构造\n",
    "\n",
    "**clops_bench.run_clops_v(machine, write_log= True)**\n",
    "\n",
    "2.CLOPS_H\n",
    "基于hardware-efficiency线路的clops线路构造\n",
    "\n",
    "**clops_bench.run_clops_h(machine, write_log= True)**\n",
    "\n"
   ]
  },
  {
   "cell_type": "markdown",
   "metadata": {},
   "source": [
    "所有计算的结果分析和参数配置信息均会输出到终端控制台上,如果开启clops_bench.run_clops_h(machine, write_log= True)的write_log选项，会在本地生成带有时间戳的log文件"
   ]
  },
  {
   "cell_type": "markdown",
   "metadata": {},
   "source": [
    "# 参考文献\n",
    "[1] https://research.ibm.com/blog/circuit-layer-operations-per-second (2023)."
   ]
  }
 ],
 "metadata": {
  "kernelspec": {
   "display_name": "Python 3",
   "language": "python",
   "name": "python3"
  },
  "language_info": {
   "codemirror_mode": {
    "name": "ipython",
    "version": 3
   },
   "file_extension": ".py",
   "mimetype": "text/x-python",
   "name": "python",
   "nbconvert_exporter": "python",
   "pygments_lexer": "ipython3",
   "version": "3.8.10"
  }
 },
 "nbformat": 4,
 "nbformat_minor": 5
}
