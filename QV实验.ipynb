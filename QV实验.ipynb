{
 "cells": [
  {
   "cell_type": "markdown",
   "id": "dba09a32",
   "metadata": {},
   "source": [
    "# QV质量结果基准\n",
    "\n",
    "**Quantum Volume**：Quantum Volume是用于衡量量子计算机性能的综合性基准。通过创建特定规格的随机电路来测试，简单的来说，量子计算机设备的量子体积数值是它能够产生可接受结果的最大电路规模的2的幂次方。\n",
    "\n",
    "**Adjust Heavy Output**：heavy outputs是指概率大于中位概率的输出结果。对于任何电路来说，一半的可能输出都是被定义为heavy outputs。基础目标是希望测量重产出的概率大于三分之二。进一步的，通过调整重输出概率分布公式，引入方差项提高测试的统计显著性。使得测试结果更具有可信度。要求量子体积需要至少运行100个电路，否则测试无效。\n",
    "\n",
    "基础重输出概率分布: \n",
    "\n",
    "$$ \\frac{n_h}{n_c n_s}>\\frac{2}{3} $$\n",
    "\n",
    "\n",
    "调整后的重输出概率分布: \n",
    "\n",
    "$$ \\frac{n_h-z \\sqrt{n_h\\left(n_s-\\frac{n_h}{n_c}\\right)}}{n_c n_s}>\\frac{2}{3} $$\n",
    "\n",
    "其中$ n_h $是测量出的重输出次数, $ n_c $是创建的线路数量, $ n_s $是线路测量次数（shots）\n",
    "Hellinger Distance：概率分布之间的一种度量，通常用于量子态或测量结果之间的比较。在量子计算中，Hellinger Distance 可以用于比较两个量子态之间的相似性。对于两个概率分布 P 和 Q，它们之间的 Hellinger Distance 定义为：\n",
    "\n",
    "$$ H(P, Q)=\\frac{1}{\\sqrt{2}} \\sqrt{\\sum_i\\left(\\sqrt{p_i}-\\sqrt{q_i}\\right)^2} $$\n",
    "\n",
    "数值越低表示两个概率分布越相似，数值越高表示它们之间的差异越大。理想情况下，希望实际测量结果和理论预测之间的 Hellinger Distance 尽可能接近零。\n",
    "\n",
    "# QV实验默认基础配置\n",
    "\n",
    "1.电路深度构造方式：方形电路  \n",
    "2.测量次数shots：5000  \n",
    "3.批量提交线路数量：100  \n",
    "4.PulsePeriod： 100  \n",
    "5.优化、映射：开启  "
   ]
  },
  {
   "cell_type": "markdown",
   "id": "df4487fb",
   "metadata": {},
   "source": [
    "我们需要确定QV实验的配置参数，才能正确运行QV实验，这些配置参数包括：总量子比特数，量子比特CZ结构（与量子比特总数对应），同时计算批量任务数目，测量次数以及芯片运行参数等。"
   ]
  },
  {
   "cell_type": "markdown",
   "id": "b479b416",
   "metadata": {},
   "source": [
    "QV实验的总体代码流程如下："
   ]
  },
  {
   "cell_type": "code",
   "execution_count": null,
   "id": "6f21feb9",
   "metadata": {},
   "outputs": [],
   "source": [
    "import pyqpanda as pq\n",
    "\n",
    "from originbench.qv_benchmark.qv_bench import QVBench\n",
    "from originbench.qv_benchmark.qv_options import QVOptions\n",
    "from originbench.util.options import Options\n",
    "from originbench.util.chip_topology import CouplingMap\n",
    "\n",
    "import requests\n",
    "requests.packages.urllib3.disable_warnings()\n",
    "\n",
    "#需要先从本源官网获取当前的用户api_token,需要确保有足够的算力资源\n",
    "my_qcloud_token = \"your api token\"\n",
    "\n",
    "def four_qubits_qv_options(cz_pattern, coupling_list):\n",
    "    \n",
    "  cz_pattern = cz_pattern\n",
    "  coupling_list = coupling_list\n",
    "\n",
    "  coupling_map = CouplingMap(cz_pattern = cz_pattern, couplinglist = coupling_list)\n",
    "\n",
    "  qv_options = QVOptions()\n",
    "  qv_options.set_options(circuits_num = 10,\n",
    "                         qubits_num = 4,\n",
    "                         shots = 5000,\n",
    "                       # coupling_map = None,\n",
    "                         coupling_map = coupling_map,\n",
    "                         chip_id = 72,\n",
    "                       # specified_qubits_block = [42, 48],\n",
    "                         is_amend = True,\n",
    "                         is_mapping = False,\n",
    "                         is_optimization = True)\n",
    "\n",
    "  return qv_options\n",
    "\n",
    "def run_qv_quality_check(options : QVOptions):\n",
    "        \n",
    "  machine = pq.QCloud()\n",
    "  machine.set_configure(72, 72)\n",
    "  online_api_key = my_qcloud_token\n",
    "  machine.init_qvm(online_api_key, False)\n",
    "  machine.qAlloc_many(72)\n",
    "  machine.cAlloc_many(72)\n",
    "\n",
    "  print(options)\n",
    "  qv_bench = QVBench(options=options)\n",
    "  \n",
    "  qv_bench.run(machine)\n",
    "  qv_bench.analyze()\n",
    "\n",
    "def run_four_qubits_qv():\n",
    "    \n",
    "  cz_pattern_list = [\n",
    "    [[(12, 13), (7, 8)]],\n",
    "    [[(25, 31), (37, 36)]],\n",
    "    [[(30, 31), (31, 37)]],\n",
    "    [[(42, 48), (49, 50)]],\n",
    "    [[(49, 55), (61, 67)]],\n",
    "    [[(61, 67), (68, 69)]],\n",
    "    [[(61, 62), (68, 69)]]\n",
    "  ]\n",
    "\n",
    "  coupling_list_sets = [\n",
    "    [(12, 13), (13, 7), (7, 8)],\n",
    "    [(25, 31), (31, 37), (37, 36)],\n",
    "    [(30, 31), (31, 37), (37, 36)],\n",
    "    [(42, 48), (48, 49), (49, 50)],\n",
    "    [(49, 55), (55, 61), (61, 67)],\n",
    "    [(61, 67), (67, 68), (68, 69)],\n",
    "    [(61, 62), (62, 68), (68, 69)]\n",
    "  ]\n",
    "\n",
    "  # for i in range(len(cz_pattern_list)):\n",
    "  for i in range(1):\n",
    "    q4_options = four_qubits_qv_options(cz_pattern=cz_pattern_list[i],\n",
    "                                        coupling_list=coupling_list_sets[i])\n",
    "    run_qv_quality_check(q4_options)\n",
    "\n",
    "\n",
    "if __name__==\"__main__\":\n",
    "      \n",
    "  run_four_qubits_qv()\n",
    "    "
   ]
  },
  {
   "cell_type": "markdown",
   "id": "1ed40a46",
   "metadata": {},
   "source": [
    "所有计算的结果分析和参数配置信息均会输出到终端控制台上"
   ]
  },
  {
   "cell_type": "markdown",
   "id": "2b49243a",
   "metadata": {},
   "source": [
    "# 参考文献\n",
    "[1] https://github.com/Qiskit/textbook/blob/main/notebooks/quantum-hardware/measuring-quantum-volume.ipynb"
   ]
  }
 ],
 "metadata": {
  "kernelspec": {
   "display_name": "Python 3 (ipykernel)",
   "language": "python",
   "name": "python3"
  },
  "language_info": {
   "codemirror_mode": {
    "name": "ipython",
    "version": 3
   },
   "file_extension": ".py",
   "mimetype": "text/x-python",
   "name": "python",
   "nbconvert_exporter": "python",
   "pygments_lexer": "ipython3",
   "version": "3.9.11"
  }
 },
 "nbformat": 4,
 "nbformat_minor": 5
}
