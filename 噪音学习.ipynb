{
 "cells": [
  {
   "cell_type": "markdown",
   "id": "4e2eebd7-861d-4c16-8605-679d55219a35",
   "metadata": {
    "pycharm": {
     "name": "#%% md\n"
    }
   },
   "source": [
    "# 噪音学习实验"
   ]
  },
  {
   "cell_type": "markdown",
   "id": "b0a1243e-9fc4-4554-933f-01b3f4dce72d",
   "metadata": {
    "pycharm": {
     "name": "#%% md\n"
    }
   },
   "source": [
    "在通过合理的假设假定芯片的噪音模型之后，通过噪音学习实验获得相关噪音模型的系数是我们对量子芯片、量子门质量的表征手段之一。一方面，这可以帮助我们更好的理解芯片的性质，另一方面，也为各种基于噪音放大或缩小的错误缓解方案（如零噪音外推、概率错误消除等）提供了基础。"
   ]
  },
  {
   "cell_type": "markdown",
   "id": "ecc82658-ae41-40e5-ae1f-f499d5b09b54",
   "metadata": {
    "pycharm": {
     "name": "#%% md\n"
    }
   },
   "source": [
    "噪音学习的基础理论可以参照论文[1]。我们可以假定芯片噪音符合Sparse Pauli-Lindberg模型，在PTM下表达：\n",
    "$$\n",
    "\\Lambda = \\exp \\mathcal{L} = \\prod_{k\\in K} e^{\\lambda_k P_k \\times P_k^T}e^{-\\lambda_k}\n",
    "$$\n",
    "其中$K$仅包含单量子比特和相邻比特间的双比特相互作用，$\\lambda_k$为噪音系数。我们可以进一步将其化简为：\n",
    "$$\n",
    "\\Lambda(\\rho) = \\prod_k [w_k \\rho + (1-w_k)(P_k \\rho P_k)], w_k = \\frac{1+e^{-2\\lambda_k}}{2}\n",
    "$$\n",
    "通过不同深度的量子线路获取所有泡利保真度，就可以进一步拟合出对应的噪音系数。"
   ]
  },
  {
   "cell_type": "markdown",
   "id": "faf284cb-40b9-4e4e-8670-2c2768b5fa03",
   "metadata": {
    "pycharm": {
     "name": "#%% md\n"
    }
   },
   "source": [
    "因此，基本噪音学习的实验流程可以被如下划分：\n",
    "1. 根据目标，选取需要学习的量子比特，以及对应的可以同时相互作用的双比特门图样（称之为CZ pattern或CX pattern，接下来以CZ为例）。\n",
    "2. 生成一组基底，可以覆盖所有的泡利基。对于线性链来说，仅需要9个即可。\n",
    "3. 生成量子线路：首先进行换基操作，随后生成不同层数的CZ层量子线路，接着对CZ操作Pauli twirl。结果在换回Z基后额外进行测量对角化。\n",
    "4. 运行量子线路\n",
    "5. 根据不同层数的测量结果，利用指数拟合获取对应的泡利保真度和测量保真度\n",
    "6. 利用泡利保真度拟合出噪音系数"
   ]
  },
  {
   "cell_type": "markdown",
   "id": "30b5cead-222e-4b40-9ff9-2e9abfa4dc20",
   "metadata": {
    "pycharm": {
     "name": "#%% md\n"
    }
   },
   "source": [
    "下面是要用到的基础工具包，包括计时、文件管理等。"
   ]
  },
  {
   "cell_type": "code",
   "execution_count": null,
   "id": "4f11d407-4b5e-45cb-85c1-77145bddac34",
   "metadata": {
    "pycharm": {
     "name": "#%%\n"
    }
   },
   "outputs": [],
   "source": [
    "import time\n",
    "import networkx as nx\n",
    "from pathlib import Path\n",
    "import json\n",
    "import os\n",
    "\n",
    "import requests\n",
    "from requests.packages.urllib3.exceptions import InsecureRequestWarning\n",
    "requests.packages.urllib3.disable_warnings(InsecureRequestWarning)"
   ]
  },
  {
   "cell_type": "markdown",
   "id": "882b1a67-2988-4f46-9bed-29362d922f49",
   "metadata": {
    "pycharm": {
     "name": "#%% md\n"
    }
   },
   "source": [
    "第一步，选取噪音学习所用到的量子比特、双比特门和对应Pattern。所谓Pattern，就是指在考虑串扰情况下同时作用的双门组合，一般根据自己的实际需求决定。这里我们选择了一条链式结构，为12-6-0-1-2-3-4-10-16，共计9个比特，并将CZ门进行奇偶排列组成两个Pattern。注意，这里都是物理比特，且在创建inst_map的时候必须按照从小到大的顺序排布，否则会有bug。"
   ]
  },
  {
   "cell_type": "code",
   "execution_count": null,
   "id": "d402b262-230b-468e-85b8-ac800b0e9d07",
   "metadata": {
    "pycharm": {
     "name": "#%%\n"
    }
   },
   "outputs": [],
   "source": [
    "inst_map = [0,1,2,3,4,6,10,12,16]\n",
    "coupling_map = [[0,1], [1,2], [2,3],[3,4], [4,10], [10, 16],  [6,0], [12,6]]\n",
    "\n",
    "pattern1 = [[0,1], [2,3], [4,10], [12,6]]\n",
    "pattern2 = [[6,0], [1,2], [3,4], [10, 16]]"
   ]
  },
  {
   "cell_type": "code",
   "execution_count": null,
   "id": "29a9f396-5039-4a41-ab5d-75c973f0441d",
   "metadata": {
    "pycharm": {
     "name": "#%%\n"
    }
   },
   "outputs": [],
   "source": [
    "cz_patterns = [pattern1, pattern2]"
   ]
  },
  {
   "cell_type": "markdown",
   "id": "5ee017b9-2bf0-4af1-9777-35f7d20838e1",
   "metadata": {
    "pycharm": {
     "name": "#%% md\n"
    }
   },
   "source": [
    "随后应该确定一些基本参数。常见的参数包括线路深度（层数）、线路泡利采样次数等。另外，也要确定真实芯片运行的一系列参数。"
   ]
  },
  {
   "cell_type": "markdown",
   "id": "760a395e-60c9-4bb5-bb27-444b9720d85c",
   "metadata": {
    "pycharm": {
     "name": "#%% md\n"
    }
   },
   "source": [
    "首先构造线路的深度列表，我们会用这个值拟合指数曲线获得泡利保真度"
   ]
  },
  {
   "cell_type": "code",
   "execution_count": null,
   "id": "351a6f33-062b-487e-844c-5c3e560767a5",
   "metadata": {
    "pycharm": {
     "is_executing": true,
     "name": "#%%\n"
    }
   },
   "outputs": [],
   "source": [
    "depth = [2, 4, 8, 16]"
   ]
  },
  {
   "cell_type": "markdown",
   "id": "24a06f84-61c6-4387-a1c4-7c7a6c477629",
   "metadata": {
    "pycharm": {
     "name": "#%% md\n"
    }
   },
   "source": [
    "其次是一些线路设置，包括如何保存线路、Pauli twirl和测量对角化的采样次数等。multi_txt表示是否将不同的量子线路储存在同一个文件中，random_samples代表对单条线路，进行Pauli twirl和readout twirl的线路数量。这里选择50。"
   ]
  },
  {
   "cell_type": "code",
   "execution_count": null,
   "id": "3553bae9-bde8-4e2b-a03c-b2008738085b",
   "metadata": {
    "pycharm": {
     "name": "#%%\n"
    }
   },
   "outputs": [],
   "source": [
    "multi_txt = False\n",
    "random_samples = 1"
   ]
  },
  {
   "cell_type": "markdown",
   "id": "a7cd91ba-7738-42af-afc6-e66976603155",
   "metadata": {
    "pycharm": {
     "name": "#%% md\n"
    }
   },
   "source": [
    "我们使用本源量子云作为量子芯片后端，为方便调用，已经将qcloud的运行进行了继承。"
   ]
  },
  {
   "cell_type": "code",
   "execution_count": null,
   "id": "4e3fa75d-169c-4950-b8ca-e479f3ef5505",
   "metadata": {
    "pycharm": {
     "name": "#%%\n"
    }
   },
   "outputs": [],
   "source": [
    "from originbench.error_mitigation.algorithm.fit import new_exp"
   ]
  },
  {
   "cell_type": "markdown",
   "id": "3993695a",
   "metadata": {
    "collapsed": false,
    "jupyter": {
     "outputs_hidden": false
    },
    "pycharm": {
     "name": "#%% md\n"
    }
   },
   "source": [
    "芯片运行的一些基本配置包括：\n",
    "circuits：待运行的量子线路列表 \n",
    "\n",
    "key：qcloud的API key，可以在**https://console.originqc.com.cn/zh/computerServices/dashboard**获取，请注意确保自己有足够多的机时 \n",
    "\n",
    "shots：单条线路的采样次数，一般在噪声学习实验中不必太大，这里设置为256 \n",
    "\n",
    "auto_mapping：是否开启自动映射。在运行噪音学习时，由于量子比特已经指定，因此应关闭此项。 \n",
    "\n",
    "circuit_optimize：线路优化，包括将量子门编译为基础量子门等，默认打开。 \n",
    "\n",
    "measurement_amend：是否开启读取误差矫正。对于噪音学习实验，由于我们要拟合出SPAM噪音，因此该项应该关闭 \n"
   ]
  },
  {
   "cell_type": "code",
   "execution_count": null,
   "id": "3921668a",
   "metadata": {
    "collapsed": false,
    "jupyter": {
     "outputs_hidden": false
    },
    "pycharm": {
     "name": "#%%\n"
    }
   },
   "outputs": [],
   "source": [
    "shots = 256\n",
    "# key = \"your api token\" # 替换为自己的key\n",
    "\n",
    "key = (\n",
    "    'your api token'\n",
    ")\n",
    "\n",
    "auto_mapping = False\n",
    "circuit_optimize = True\n",
    "measurement_amend = False"
   ]
  },
  {
   "cell_type": "markdown",
   "id": "c8feadb6",
   "metadata": {
    "collapsed": false,
    "jupyter": {
     "outputs_hidden": false
    },
    "pycharm": {
     "name": "#%% md\n"
    }
   },
   "source": [
    "还有一些额外的网络参数等，可以根据情况设置。\n",
    "timeout：线路最大运行时间，超过该时间时会报错，避免无限制运行 \n",
    "\n",
    "interval：查询间隔，每隔一段时间对芯片进行一次查询 \n",
    "\n",
    "retry：重复次数，当提交线路或获取结果由于网络原因失败时，会进行一定次数的重试，若超过次数仍然未成功，则终止运行并报错 \n"
   ]
  },
  {
   "cell_type": "code",
   "execution_count": null,
   "id": "811a67b5",
   "metadata": {
    "collapsed": false,
    "jupyter": {
     "outputs_hidden": false
    },
    "pycharm": {
     "name": "#%%\n"
    }
   },
   "outputs": [],
   "source": [
    "timeout = 1800\n",
    "interval = 10"
   ]
  },
  {
   "cell_type": "markdown",
   "id": "0c07f477-a59a-4a44-93ef-261e15ef5b2d",
   "metadata": {
    "pycharm": {
     "name": "#%% md\n"
    }
   },
   "source": [
    "使用打包好的噪声学习实验函数，可以自然运行噪音学习流程，该函数会返回噪声学习实验字典结构。如果希望保存噪音学习结果至文件，请将save参数设置为True。"
   ]
  },
  {
   "cell_type": "code",
   "execution_count": null,
   "id": "3aed20f2-b3bf-454c-a96d-7a90058d3957",
   "metadata": {
    "pycharm": {
     "name": "#%%\n"
    }
   },
   "outputs": [],
   "source": [
    "from originbench.noise_learning.generate_noise_learning import noise_learning\n",
    "\n",
    "noise_data = noise_learning(inst_map=inst_map,\n",
    "                            coupling_map=coupling_map,\n",
    "                            cz_patterns=cz_patterns,\n",
    "                            key=key, # qcloud后端的参数\n",
    "                            auto_mapping=auto_mapping,\n",
    "                            circuit_optimize=circuit_optimize,\n",
    "                            measurement_amend=measurement_amend,\n",
    "                            shots=shots,\n",
    "                            timeout=timeout,\n",
    "                            interval=interval,\n",
    "                            save=True)"
   ]
  },
  {
   "cell_type": "markdown",
   "id": "a84ca91b",
   "metadata": {
    "collapsed": false,
    "jupyter": {
     "outputs_hidden": false
    },
    "pycharm": {
     "name": "#%% md\n"
    }
   },
   "source": [
    "获取结果的格式：\n",
    "字典格式，以CZ pattern的字符串格式为key，每个value为一个列表，列表中的每一个元素为一个字典。\n",
    "该字典包括：\n",
    "“cz_pattern”：对应的CZ pattern \n",
    "\n",
    "“coeffs“：Sparse Pauli-Lindberg模型的噪音系数$\\lambda_k$，字典格式，为{pauli:coefficient}的形式，如{'IIX':0.001, ...} \n",
    "\n",
    "”fidelity“：不同泡利基下拟合出来的单层量子门保真度，字典格式 \n",
    "\n",
    "”spam_noise“：不同泡利基下拟合出来的，由线路初始化和测量带来的误差，字典格式。"
   ]
  },
  {
   "cell_type": "markdown",
   "id": "f801d16f-2748-46c9-9900-7d238dd6786f",
   "metadata": {
    "pycharm": {
     "name": "#%% md\n"
    }
   },
   "source": [
    "分析拟合结果，画图。注意，由于noise coefficient的数目比较多，一般图会很长。注意调节图的大小。\n"
   ]
  },
  {
   "cell_type": "code",
   "execution_count": null,
   "id": "586648ad-fea2-401a-84f3-d40db72deaf8",
   "metadata": {
    "pycharm": {
     "name": "#%%\n"
    }
   },
   "outputs": [],
   "source": [
    "import matplotlib.pyplot as plt\n",
    "%matplotlib inline\n",
    "\n",
    "noise_data_pattern_1 = list(noise_data.values())[0][0]\n",
    "cz_pattern = noise_data_pattern_1['cz_pattern']\n",
    "fidelity = noise_data_pattern_1['fidelity']\n",
    "coeffs = noise_data_pattern_1['coeffs']\n",
    "print(fidelity)\n",
    "print(coeffs)\n"
   ]
  },
  {
   "cell_type": "code",
   "execution_count": null,
   "id": "7261164f",
   "metadata": {
    "collapsed": false,
    "jupyter": {
     "outputs_hidden": false
    },
    "pycharm": {
     "name": "#%%\n"
    }
   },
   "outputs": [],
   "source": [
    "from matplotlib import use\n",
    "\n",
    "plt.figure(figsize=(len(coeffs), 8))\n",
    "plt.bar(coeffs.keys(), coeffs.values())\n",
    "plt.xlabel('pauli')\n",
    "plt.title(f'noise coefficient of cz pattern {cz_pattern}')\n",
    "plt.show()"
   ]
  },
  {
   "cell_type": "markdown",
   "id": "8832dd81",
   "metadata": {},
   "source": [
    "# 参考文献\n",
    "[1] Berg, E. van den, Minev, Z. K., Kandala, A. & Temme, K. Probabilistic error cancellation with sparse Pauli-Lindblad models on noisy quantum processors. Preprint at http://arxiv.org/abs/2201.09866 (2022)."
   ]
  }
 ],
 "metadata": {
  "kernelspec": {
   "display_name": "Python 3 (ipykernel)",
   "language": "python",
   "name": "python3"
  },
  "language_info": {
   "codemirror_mode": {
    "name": "ipython",
    "version": 3
   },
   "file_extension": ".py",
   "mimetype": "text/x-python",
   "name": "python",
   "nbconvert_exporter": "python",
   "pygments_lexer": "ipython3",
   "version": "3.9.11"
  }
 },
 "nbformat": 4,
 "nbformat_minor": 5
}
